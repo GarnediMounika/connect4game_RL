{
  "nbformat": 4,
  "nbformat_minor": 0,
  "metadata": {
    "colab": {
      "provenance": []
    },
    "kernelspec": {
      "name": "python3",
      "display_name": "Python 3"
    },
    "language_info": {
      "name": "python"
    }
  },
  "cells": [
    {
      "cell_type": "code",
      "source": [
        "import tensorflow as tf\n",
        "import numpy as np\n",
        "import random\n",
        "import matplotlib.pyplot as plt\n",
        "\n",
        "class Connect4Env:\n",
        "    def __init__(self):\n",
        "        self.rows, self.cols = 6, 7\n",
        "        self.reset()\n",
        "\n",
        "    def reset(self):\n",
        "        self.board = np.zeros((self.rows, self.cols), dtype=np.int8)\n",
        "        self.done = False\n",
        "        self.winner = None\n",
        "        return self.board.copy()\n",
        "\n",
        "    def step(self, player, col):\n",
        "        for row in range(self.rows-1, -1, -1):\n",
        "            if self.board[row][col] == 0:\n",
        "                self.board[row][col] = player\n",
        "                reward, done = self.evaluate(player)\n",
        "                return self.board.copy(), reward, done\n",
        "        return self.board.copy(), -1, True\n",
        "\n",
        "    def get_valid_actions(self):\n",
        "        return [c for c in range(self.cols) if self.board[0][c] == 0]\n",
        "\n",
        "    def evaluate(self, player):\n",
        "        for r in range(self.rows):\n",
        "            for c in range(self.cols - 3):\n",
        "                if np.all(self.board[r, c:c+4] == player):\n",
        "                    return 1, True\n",
        "        for r in range(self.rows - 3):\n",
        "            for c in range(self.cols):\n",
        "                if np.all(self.board[r:r+4, c] == player):\n",
        "                    return 1, True\n",
        "        for r in range(self.rows - 3):\n",
        "            for c in range(self.cols - 3):\n",
        "                if all([self.board[r+i][c+i] == player for i in range(4)]):\n",
        "                    return 1, True\n",
        "                if all([self.board[r+3-i][c+i] == player for i in range(4)]):\n",
        "                    return 1, True\n",
        "        if not self.get_valid_actions():\n",
        "            return 0, True\n",
        "        return 0, False\n",
        "\n",
        "    def render(self):\n",
        "        print(self.board)\n"
      ],
      "metadata": {
        "id": "V5SVO7hRXhSG"
      },
      "execution_count": null,
      "outputs": []
    }
  ]
}